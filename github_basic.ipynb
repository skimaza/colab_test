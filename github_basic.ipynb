{
  "nbformat": 4,
  "nbformat_minor": 0,
  "metadata": {
    "colab": {
      "name": "github basic.ipynb",
      "provenance": [],
      "authorship_tag": "ABX9TyMhKB0iqPM/ABDfROKFWTYw",
      "include_colab_link": true
    },
    "kernelspec": {
      "name": "python3",
      "display_name": "Python 3"
    },
    "language_info": {
      "name": "python"
    }
  },
  "cells": [
    {
      "cell_type": "markdown",
      "metadata": {
        "id": "view-in-github",
        "colab_type": "text"
      },
      "source": [
        "<a href=\"https://colab.research.google.com/github/skimaza/colab_test/blob/main/github_basic.ipynb\" target=\"_parent\"><img src=\"https://colab.research.google.com/assets/colab-badge.svg\" alt=\"Open In Colab\"/></a>"
      ]
    },
    {
      "cell_type": "markdown",
      "metadata": {
        "id": "FnN3OdnJto7v"
      },
      "source": [
        "# 처음으로 github에서 Colab을 연결했을 때 시험해보는 코드\n",
        "## .ipynb 파일을 오픈한 후 Open in Colab 버튼을 누르면 Colab에서 실행됨"
      ]
    },
    {
      "cell_type": "code",
      "metadata": {
        "id": "mnyrEcxel7ix"
      },
      "source": [
        "import sys\n",
        "import torch\n",
        "import numpy as np"
      ],
      "execution_count": 1,
      "outputs": []
    },
    {
      "cell_type": "markdown",
      "metadata": {
        "id": "HBHRNqYJmefo"
      },
      "source": [
        "# Python version"
      ]
    },
    {
      "cell_type": "code",
      "metadata": {
        "colab": {
          "base_uri": "https://localhost:8080/"
        },
        "id": "WoGydNCFmZeL",
        "outputId": "086a7876-2173-4e88-936c-ea36506dad0c"
      },
      "source": [
        "print(sys.version)"
      ],
      "execution_count": 2,
      "outputs": [
        {
          "output_type": "stream",
          "name": "stdout",
          "text": [
            "3.7.12 (default, Jan 15 2022, 18:48:18) \n",
            "[GCC 7.5.0]\n"
          ]
        }
      ]
    },
    {
      "cell_type": "markdown",
      "metadata": {
        "id": "8z62ICF_nAmK"
      },
      "source": [
        "파이썬 버전은 3.7"
      ]
    },
    {
      "cell_type": "code",
      "metadata": {
        "colab": {
          "base_uri": "https://localhost:8080/"
        },
        "id": "rsi-YqtAmkCS",
        "outputId": "2c1c769b-d883-4009-f621-7507657ce443"
      },
      "source": [
        "print(torch.__version__)"
      ],
      "execution_count": 3,
      "outputs": [
        {
          "output_type": "stream",
          "name": "stdout",
          "text": [
            "1.10.0+cu111\n"
          ]
        }
      ]
    },
    {
      "cell_type": "markdown",
      "metadata": {
        "id": "2MPMLjpqmsHc"
      },
      "source": [
        "1.10.0은 PyTorch 버전. cu111는 Cuda 라이브러리 버전. GPU를 지원하는 버전이라는 의미"
      ]
    },
    {
      "cell_type": "code",
      "metadata": {
        "colab": {
          "base_uri": "https://localhost:8080/"
        },
        "id": "qxsbYYP7mpz5",
        "outputId": "97edd91c-4f27-4c98-94b9-1b81d2325970"
      },
      "source": [
        "print(np.__version__)"
      ],
      "execution_count": 4,
      "outputs": [
        {
          "output_type": "stream",
          "name": "stdout",
          "text": [
            "1.21.5\n"
          ]
        }
      ]
    },
    {
      "cell_type": "code",
      "metadata": {
        "id": "4WgTtqjlnGOq"
      },
      "source": [
        "hello = \"Hello, world!\""
      ],
      "execution_count": 5,
      "outputs": []
    },
    {
      "cell_type": "code",
      "metadata": {
        "colab": {
          "base_uri": "https://localhost:8080/"
        },
        "id": "iSdCGxrMnrLR",
        "outputId": "f10104ef-8e4d-424d-fc43-75d9683d13cb"
      },
      "source": [
        "print(hello)"
      ],
      "execution_count": 6,
      "outputs": [
        {
          "output_type": "stream",
          "name": "stdout",
          "text": [
            "Hello, world!\n"
          ]
        }
      ]
    },
    {
      "cell_type": "code",
      "metadata": {
        "colab": {
          "base_uri": "https://localhost:8080/",
          "height": 38
        },
        "id": "Sv42lITmntUU",
        "outputId": "33d8b396-3052-46bb-b13b-b9c72bbffb4a"
      },
      "source": [
        "hello[:5]"
      ],
      "execution_count": 7,
      "outputs": [
        {
          "output_type": "execute_result",
          "data": {
            "application/vnd.google.colaboratory.intrinsic+json": {
              "type": "string"
            },
            "text/plain": [
              "'Hello'"
            ]
          },
          "metadata": {},
          "execution_count": 7
        }
      ]
    },
    {
      "cell_type": "markdown",
      "metadata": {
        "id": "B4TxH2bDnx7O"
      },
      "source": [
        "위의 'Hello'는 셀의 마지막 문장의 리턴값임"
      ]
    },
    {
      "cell_type": "code",
      "metadata": {
        "colab": {
          "base_uri": "https://localhost:8080/",
          "height": 55
        },
        "id": "j1jemVaNnwFC",
        "outputId": "09fa43d1-1173-4424-bc4e-075a91319854"
      },
      "source": [
        "print(hello[:2])\n",
        "hello[:5]"
      ],
      "execution_count": 8,
      "outputs": [
        {
          "output_type": "stream",
          "name": "stdout",
          "text": [
            "He\n"
          ]
        },
        {
          "output_type": "execute_result",
          "data": {
            "application/vnd.google.colaboratory.intrinsic+json": {
              "type": "string"
            },
            "text/plain": [
              "'Hello'"
            ]
          },
          "metadata": {},
          "execution_count": 8
        }
      ]
    },
    {
      "cell_type": "markdown",
      "metadata": {
        "id": "I9c5_3YaoK2R"
      },
      "source": [
        "명령의 마지막에 세미콜론 ';'을 붙이면 리턴값을 보이지 않게 할 수 있음"
      ]
    },
    {
      "cell_type": "code",
      "metadata": {
        "colab": {
          "base_uri": "https://localhost:8080/"
        },
        "id": "INY2Bx20oHwX",
        "outputId": "a4447425-32ec-4e5c-d94d-54b9a062905e"
      },
      "source": [
        "print(hello[:2])\n",
        "hello[:5];"
      ],
      "execution_count": 9,
      "outputs": [
        {
          "output_type": "stream",
          "name": "stdout",
          "text": [
            "He\n"
          ]
        }
      ]
    },
    {
      "cell_type": "markdown",
      "metadata": {
        "id": "JlnVkbbboj86"
      },
      "source": [
        "print 결과만 표시됨"
      ]
    },
    {
      "cell_type": "markdown",
      "metadata": {
        "id": "nvPJZGIyo2C0"
      },
      "source": [
        "# 자주 쓰는 python 기능"
      ]
    },
    {
      "cell_type": "code",
      "metadata": {
        "colab": {
          "base_uri": "https://localhost:8080/"
        },
        "id": "L4qLFSY5obgH",
        "outputId": "2e4b8490-01cd-4d2d-d6a1-25b948418934"
      },
      "source": [
        "sample_text = \"Colaboratory를 사용하면 브라우저에서 Python을 작성하고 실행할 수 있습니다.\"\n",
        "print(sample_text)\n",
        "print(\"위와 동일:\", sample_text[::])\n",
        "print(\"처음부터 10번째 문자까지:\", sample_text[:10])\n",
        "print(\"5번째에서 15번째 문자까지:\", sample_text[5:15])\n",
        "print(\"마지막 5개 문자:\", sample_text[-5:])"
      ],
      "execution_count": 10,
      "outputs": [
        {
          "output_type": "stream",
          "name": "stdout",
          "text": [
            "Colaboratory를 사용하면 브라우저에서 Python을 작성하고 실행할 수 있습니다.\n",
            "위와 동일: Colaboratory를 사용하면 브라우저에서 Python을 작성하고 실행할 수 있습니다.\n",
            "처음부터 10번째 문자까지: Colaborato\n",
            "5번째에서 15번째 문자까지: oratory를 사\n",
            "마지막 5개 문자: 있습니다.\n"
          ]
        }
      ]
    },
    {
      "cell_type": "code",
      "metadata": {
        "colab": {
          "base_uri": "https://localhost:8080/"
        },
        "id": "Wb1R1eFTpzBw",
        "outputId": "ef413a39-e27d-44e0-f7ab-7110b4574512"
      },
      "source": [
        "print(\"한 칸씩 건너뛰기.\", sample_text[::2])"
      ],
      "execution_count": 11,
      "outputs": [
        {
          "output_type": "stream",
          "name": "stdout",
          "text": [
            "한 칸씩 건너뛰기. Clbrtr를사하 라저서Pto을작하 행  습다\n"
          ]
        }
      ]
    },
    {
      "cell_type": "markdown",
      "metadata": {
        "id": "5aVa3gEOqTSS"
      },
      "source": [
        "위 기능은 문자열에선 의미없는 경우가 많지만 숫자 배열을 다룰 때 유용한 기능임"
      ]
    },
    {
      "cell_type": "code",
      "metadata": {
        "colab": {
          "base_uri": "https://localhost:8080/"
        },
        "id": "_a2CGg6sqEb6",
        "outputId": "8b5dabd3-37d9-406d-96d6-2479454d9d2e"
      },
      "source": [
        "sample_list = [1,2,3,4]\n",
        "print('sample_list', sample_list)\n",
        "print('len(sample_list):', len(sample_list))\n",
        "for x in sample_list:\n",
        "    print(x)\n",
        "print()\n",
        "for x in sample_list[::2]:\n",
        "    print(sample_list[x])"
      ],
      "execution_count": 12,
      "outputs": [
        {
          "output_type": "stream",
          "name": "stdout",
          "text": [
            "sample_list [1, 2, 3, 4]\n",
            "len(sample_list): 4\n",
            "1\n",
            "2\n",
            "3\n",
            "4\n",
            "\n",
            "2\n",
            "4\n"
          ]
        }
      ]
    },
    {
      "cell_type": "markdown",
      "metadata": {
        "id": "OK8MBmDpqmrH"
      },
      "source": [
        "# list comprehension"
      ]
    },
    {
      "cell_type": "code",
      "metadata": {
        "id": "kgS4GFSkqk5D"
      },
      "source": [
        "sample_list2 = [x for x in range(10)]"
      ],
      "execution_count": 13,
      "outputs": []
    },
    {
      "cell_type": "code",
      "metadata": {
        "colab": {
          "base_uri": "https://localhost:8080/"
        },
        "id": "EDK5UN4zqtCc",
        "outputId": "86eb6d2e-4848-4371-cbd3-771a505b1133"
      },
      "source": [
        "print(len(sample_list2))"
      ],
      "execution_count": 14,
      "outputs": [
        {
          "output_type": "stream",
          "name": "stdout",
          "text": [
            "10\n"
          ]
        }
      ]
    },
    {
      "cell_type": "code",
      "metadata": {
        "colab": {
          "base_uri": "https://localhost:8080/"
        },
        "id": "_XF4zG2xquCL",
        "outputId": "1a1e3d78-410d-45e5-e10f-c46395590beb"
      },
      "source": [
        "sample_list2"
      ],
      "execution_count": 15,
      "outputs": [
        {
          "output_type": "execute_result",
          "data": {
            "text/plain": [
              "[0, 1, 2, 3, 4, 5, 6, 7, 8, 9]"
            ]
          },
          "metadata": {},
          "execution_count": 15
        }
      ]
    },
    {
      "cell_type": "code",
      "metadata": {
        "colab": {
          "base_uri": "https://localhost:8080/"
        },
        "id": "mFnPjB67rNbc",
        "outputId": "42ac9386-25af-4e32-fabc-f1d7ef108127"
      },
      "source": [
        "print(sample_list2[::2])"
      ],
      "execution_count": 16,
      "outputs": [
        {
          "output_type": "stream",
          "name": "stdout",
          "text": [
            "[0, 2, 4, 6, 8]\n"
          ]
        }
      ]
    },
    {
      "cell_type": "code",
      "metadata": {
        "colab": {
          "base_uri": "https://localhost:8080/"
        },
        "id": "RvDgWJynrRSG",
        "outputId": "4eb38bdf-d30c-4679-e662-996fd8047b20"
      },
      "source": [
        "print(sample_list2[1::2])"
      ],
      "execution_count": 17,
      "outputs": [
        {
          "output_type": "stream",
          "name": "stdout",
          "text": [
            "[1, 3, 5, 7, 9]\n"
          ]
        }
      ]
    },
    {
      "cell_type": "markdown",
      "metadata": {
        "id": "7-xNinwXrx4A"
      },
      "source": [
        "# Shell 명령\n",
        "- colab 가상머신은 리눅스 운영체제를 사용\n",
        "- 리눅스 쉘 명령은 '!'를 앞에 붙여서 사용"
      ]
    },
    {
      "cell_type": "code",
      "metadata": {
        "colab": {
          "base_uri": "https://localhost:8080/"
        },
        "id": "y8SdJjrXrT2Y",
        "outputId": "73418750-7710-4f73-d0cf-e86c5b0c3d65"
      },
      "source": [
        "!pwd"
      ],
      "execution_count": 18,
      "outputs": [
        {
          "output_type": "stream",
          "name": "stdout",
          "text": [
            "/content\n"
          ]
        }
      ]
    },
    {
      "cell_type": "markdown",
      "metadata": {
        "id": "mHUD4ij1sSWG"
      },
      "source": [
        "Colab 가상머신의 홈 디렉토리"
      ]
    },
    {
      "cell_type": "code",
      "metadata": {
        "colab": {
          "base_uri": "https://localhost:8080/"
        },
        "id": "ZKQO8Bq0sKir",
        "outputId": "29ccfa93-198a-4ad3-9b66-2b8313e22396"
      },
      "source": [
        "!ls"
      ],
      "execution_count": 19,
      "outputs": [
        {
          "output_type": "stream",
          "name": "stdout",
          "text": [
            "sample_data\n"
          ]
        }
      ]
    },
    {
      "cell_type": "code",
      "metadata": {
        "colab": {
          "base_uri": "https://localhost:8080/"
        },
        "id": "1giL7zXEsbXU",
        "outputId": "dbdc52b5-fdc5-48ef-df9f-0e6517bc1ea0"
      },
      "source": [
        "!ls sample_data"
      ],
      "execution_count": 20,
      "outputs": [
        {
          "output_type": "stream",
          "name": "stdout",
          "text": [
            "anscombe.json\t\t      mnist_test.csv\n",
            "california_housing_test.csv   mnist_train_small.csv\n",
            "california_housing_train.csv  README.md\n"
          ]
        }
      ]
    },
    {
      "cell_type": "markdown",
      "metadata": {
        "id": "yoTNhvt3sfa9"
      },
      "source": [
        "# sample_data 디렉토리에는 colab에서 기본으로 제공하는 연습용 데이터가 있음"
      ]
    },
    {
      "cell_type": "code",
      "metadata": {
        "colab": {
          "base_uri": "https://localhost:8080/"
        },
        "id": "HoN_AVJUsd5C",
        "outputId": "852cea48-0d20-4169-ee8c-11a1cf22eed7"
      },
      "source": [
        "!cat sample_data/README.md"
      ],
      "execution_count": 21,
      "outputs": [
        {
          "output_type": "stream",
          "name": "stdout",
          "text": [
            "This directory includes a few sample datasets to get you started.\n",
            "\n",
            "*   `california_housing_data*.csv` is California housing data from the 1990 US\n",
            "    Census; more information is available at:\n",
            "    https://developers.google.com/machine-learning/crash-course/california-housing-data-description\n",
            "\n",
            "*   `mnist_*.csv` is a small sample of the\n",
            "    [MNIST database](https://en.wikipedia.org/wiki/MNIST_database), which is\n",
            "    described at: http://yann.lecun.com/exdb/mnist/\n",
            "\n",
            "*   `anscombe.json` contains a copy of\n",
            "    [Anscombe's quartet](https://en.wikipedia.org/wiki/Anscombe%27s_quartet); it\n",
            "    was originally described in\n",
            "\n",
            "    Anscombe, F. J. (1973). 'Graphs in Statistical Analysis'. American\n",
            "    Statistician. 27 (1): 17-21. JSTOR 2682899.\n",
            "\n",
            "    and our copy was prepared by the\n",
            "    [vega_datasets library](https://github.com/altair-viz/vega_datasets/blob/4f67bdaad10f45e3549984e17e1b3088c731503d/vega_datasets/_data/anscombe.json).\n"
          ]
        }
      ]
    },
    {
      "cell_type": "code",
      "metadata": {
        "id": "6YUjR09isnU9"
      },
      "source": [
        ""
      ],
      "execution_count": null,
      "outputs": []
    }
  ]
}